{
  "nbformat": 4,
  "nbformat_minor": 0,
  "metadata": {
    "colab": {
      "name": "Untitled9.ipynb",
      "provenance": [],
      "authorship_tag": "ABX9TyMfgJfTA/WmwtgnBGD/FNuY",
      "include_colab_link": true
    },
    "kernelspec": {
      "name": "python3",
      "display_name": "Python 3"
    }
  },
  "cells": [
    {
      "cell_type": "markdown",
      "metadata": {
        "id": "view-in-github",
        "colab_type": "text"
      },
      "source": [
        "<a href=\"https://colab.research.google.com/github/hieu28022000/CS112.L12.KHCL/blob/master/week6/DoGiongNhau.ipynb\" target=\"_parent\"><img src=\"https://colab.research.google.com/assets/colab-badge.svg\" alt=\"Open In Colab\"/></a>"
      ]
    },
    {
      "cell_type": "markdown",
      "metadata": {
        "id": "87uST7GE9Cy-"
      },
      "source": [
        "# 1. Abstraction\n",
        "\n",
        "# 2. Decomposition\n",
        "\n",
        "Có thể chia bài toán thành 2 bài toán con cần giải quyết\n",
        "- Xác định các cặp 2 chữ cái liên tiếp nhau xuất hiện trong chuỗi b\n",
        "- Đếm số lượng các cặp 2 chữ cái liên tiếp nhau đồng thời xuất hiện ở cả chuỗi a và b\n",
        "\n",
        "# 3. Pattern Recognition\n",
        "\n",
        "Với 2 bài toán con đã nêu, ta có thể  sử  dụng cùng 1 ý tưởng để giải quyết cả 2, qua đó cũng là lời giải cuối cùng cho bài toán: Đếm phân phối\n",
        "\n",
        "# 4. Algorithm Design\n",
        "\n",
        "Nhận thấy chuỗi chỉ gồm các kí tự chữ cái in hoa, có tổng cộng 26 chữ cái vậy tối đa chúng ta có thể  có: <br>\n",
        "\n",
        ">$26 \\times 26 = 676$ cặp 2 kí tự. <br>\n",
        "vd: với 3 kí tự abc sẽ có $3 \\times 3 = 9$ cặp 2 kí tự sau <br>\n",
        "- aa\n",
        "- bb\n",
        "- cc\n",
        "- ab\n",
        "- ac\n",
        "- bc\n",
        "- cb\n",
        "- ba\n",
        "- ca <br>\n",
        "\n",
        "Vậy với 26 kí tự từ A-Z sẽ có $26 \\times 26 = 676$ cặp 2 kí tự\n",
        "\n",
        "\n",
        "\n",
        "Như vậy với thông tin trên, ta có thể sử dụng phương pháp đếm phân phối để xác định các cặp 2 chữ cái đã xuất hiện.\n",
        "\n",
        "Ngoài ra, theo đề ta có:\n",
        "```\n",
        "Cho hai gene. Hãy xác định mức độ giống nhau của gene thứ nhất với gene thứ 2.\n",
        "```\n",
        "Như vậy có thể lấy chuỗi b làm chuẩn và tiến hành so sánh chuỗi a dựa trên đó, nói cách khác là ta chỉ cần đánh dấu các cặp 2 chữ cái liên tiếp có xuất hiện trong chuỗi b và tiến hành kiểm tra từng cặp 2 chữ cái liên tiếp của chuỗi a xem có xuất hiện trong chuỗi b không dựa trên mảng đếm phân phối, nếu có thì ta đếm lên 1.\n",
        "Tuy nhiên để có thể thực hiện việc đánh dấu các cặp 2 chữ cái trên mảng đếm phân phối, ta phải tiến hành chuyển đổi cặp 2 chữ cái về thành index trong mảng. Ta có thể dùng công thức:\n",
        "\n",
        "\n",
        "> $ord(pair[0]) \\bmod 65 \\times 26 + ord(pair[1]) \\bmod 65$ <br>\n",
        "\n",
        "\n",
        "Với hàm ord() sẽ trả về giá trị thập phân tương ứng trong bảng mã ASCII của kí tự được truyền vào."
      ]
    },
    {
      "cell_type": "markdown",
      "metadata": {
        "id": "22bVz4mNBgge"
      },
      "source": [
        "# 6. Implementation"
      ]
    },
    {
      "cell_type": "code",
      "metadata": {
        "id": "POWPFYkJ8zro"
      },
      "source": [
        "MAX_SIZE = int(1e3)\n",
        "\n",
        "\n",
        "def get_ind(s1, s2):\n",
        "    return ord(s1) % 65 * 26 + ord(s2) % 65\n",
        "\n",
        "\n",
        "def solve():\n",
        "    a = input().strip()\n",
        "    b = input().strip()\n",
        "\n",
        "    count = [False] * MAX_SIZE\n",
        "\n",
        "    ans = 0\n",
        "\n",
        "    if len(a) == 1 or len(b) == 1:\n",
        "        print(0)\n",
        "        return\n",
        "\n",
        "    for i in range(1, len(b)):\n",
        "        ind = get_ind(b[i-1], b[i])\n",
        "        count[ind] = True\n",
        "\n",
        "    for i in range(1, len(a)):\n",
        "        ind = get_ind(a[i-1], a[i])\n",
        "        ans += count[ind]\n",
        "\n",
        "    print(ans)\n",
        "\n",
        "\n",
        "solve()\n"
      ],
      "execution_count": null,
      "outputs": []
    }
  ]
}